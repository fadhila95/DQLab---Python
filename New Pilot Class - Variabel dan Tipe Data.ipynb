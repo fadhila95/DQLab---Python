{
  "nbformat": 4,
  "nbformat_minor": 0,
  "metadata": {
    "colab": {
      "provenance": []
    },
    "kernelspec": {
      "name": "python3",
      "display_name": "Python 3"
    },
    "language_info": {
      "name": "python"
    }
  },
  "cells": [
    {
      "cell_type": "markdown",
      "source": [
        "<img src=\"https://raw.githubusercontent.com/bachtiyarmawork/DQLab-Project/main/BP%20-%20Header.png\">"
      ],
      "metadata": {
        "id": "-jNAk0PLJPW1"
      }
    },
    {
      "cell_type": "markdown",
      "source": [
        "# 💾 1. Variabel\n",
        "\n",
        "Variabel pada bahasa pemrograman adalah tempat penyimpanan untuk data atau informasi. Variabel digunakan untuk menyimpan nilai, yang kemudian bisa diakses atau dimanipulasi dalam program\n",
        "<br>\n",
        "\n",
        "Aturan penamaan variabel (pada Python):\n",
        "\n",
        "*   Hanya huruf, angka dan *underscore*\n",
        "*   Nama variabel tidak dapat diawali dengan angka\n",
        "*   Usahakan nama variabel sesuai dengan kegunaannya\n",
        "*   <i>**lowercase** or **snake_case** preferred</i>\n",
        "\n",
        "<br>\n",
        "\n",
        "**Contoh :**\n",
        "Sebuah perusahaan teknologi terkemuka, DQTech tahun ini telah membukukan revenue sebesar 40 Miliar rupiah. Pada python, buatlah sebuah variabel untuk menyimpan nilai tersebut (revenue DQTech)\n",
        "\n",
        "**Jawab :** *Ketikan ini pada cell lalu eksekusi (run)*\n",
        "```\n",
        "revenue_DQTech = 40000000000\n",
        "```\n",
        "\n",
        "Perintah ini tidak akan mengeluarkan output apapun, hanya menyimpan variabel ke dalam memory.\n",
        "\n",
        "docs : <i>https://docs.python.org/3/faq/programming.html#what-are-the-rules-for-local-and-global-variables-in-python</i>"
      ],
      "metadata": {
        "id": "NeRxESQs9rdw"
      }
    },
    {
      "cell_type": "markdown",
      "source": [
        "### 👨‍💻 Task 1 - A\n",
        "\n",
        "Sebuah kode transaksi `'TRX20230001'` akan disimpan dalam sebuah variabel, coba buat sebuah variabel lalu assign nilai tersebut kedalamnya!\n",
        "\n",
        "*Note : Perhatikan aturan penamaan variabel ya!*"
      ],
      "metadata": {
        "id": "XbjQx2NV-3Ii"
      }
    },
    {
      "cell_type": "code",
      "execution_count": null,
      "metadata": {
        "id": "AIiALShK82wr"
      },
      "outputs": [],
      "source": [
        "# Write your code below here & exec!\n",
        "kode_transaksi = 'TRX20230001'"
      ]
    },
    {
      "cell_type": "markdown",
      "source": [
        "### 👨‍💻 Task 1 - B\n",
        "\n",
        "Untuk menghitung PAT (Profit After Tax) pada sebuah program, perlu dibuat sebuah variabel pada Python yang menyimpan sebuah nilai PPN (Pajak Penerimaan Negara) sebesar 12%. Buatlah variabel tersebut dengan mengetikan kodenya dibawah ini!\n",
        "\n",
        "*Note : Perhatikan aturan penamaan variabel ya!*"
      ],
      "metadata": {
        "id": "tlbwKouAAySU"
      }
    },
    {
      "cell_type": "code",
      "source": [
        "# Write your code below here & exec!\n",
        "PPN = 0,12"
      ],
      "metadata": {
        "id": "nMtGHeD0A_Cx"
      },
      "execution_count": null,
      "outputs": []
    },
    {
      "cell_type": "markdown",
      "source": [
        "---\n",
        "\n"
      ],
      "metadata": {
        "id": "1ju0T1SEE7gi"
      }
    },
    {
      "cell_type": "markdown",
      "source": [
        "# 🖨️ 2. Menampilkan Variabel\n",
        "\n",
        "Gunakan fungsi `print()` untuk menampilkan sesuatu pada python\n",
        "\n",
        "<br>\n",
        "\n",
        "**Contoh :**\n",
        "Sebuah perusahaan teknologi terkemuka, DQTech tahun ini telah membukukan revenue sebesar 40 Miliar rupiah. Pada python, buatlah sebuah variabel untuk menyimpan nilai tersebut (revenue DQTech) dan tampilkan nilainya dengan menambahkan beberapa kalimat penjelas.\n",
        "\n",
        "**Jawab :** *Ketikan ini pada cell lalu eksekusi (run)*\n",
        "```\n",
        "# Buat variabel\n",
        "revenue_DQTech = 40000000000\n",
        "\n",
        "# Tampilkan hasilnya\n",
        "print('Pendapatan yang diperoleh DQTech adalah', revenue_DQTech)\n",
        "\n",
        ">>> Output :      \n",
        ">>> Pendapatan yang diperoleh DQTech adalah 40000000000\n",
        "```\n",
        "\n",
        "docs : _https://docs.python.org/3/library/functions.html#print_"
      ],
      "metadata": {
        "id": "3hx6-t6eCQ7l"
      }
    },
    {
      "cell_type": "markdown",
      "source": [
        "### 👨‍💻 Task 2 - A\n",
        "\n",
        "Sebuah nilai `'TRX20230001'` akan disimpan dalam sebuah variabel, coba buat sebuah variabel lalu assign nilai tersebut kedalamnya lalu tampilkan outputnya!\n",
        "\n",
        "Gunakan `Style 1 : print('...', variabel1, ...)`"
      ],
      "metadata": {
        "id": "CSs2Js4ECi4L"
      }
    },
    {
      "cell_type": "code",
      "source": [
        "# Write your code below here & exec!\n",
        "kode_transaksi = 'TRX20230001'\n",
        "\n",
        "print('Kode transaksi anda =', kode_transaksi)"
      ],
      "metadata": {
        "id": "V5qiLOhgCgRB",
        "colab": {
          "base_uri": "https://localhost:8080/"
        },
        "outputId": "3923e50f-bd33-4832-e260-9d4e84f8c13c"
      },
      "execution_count": null,
      "outputs": [
        {
          "output_type": "stream",
          "name": "stdout",
          "text": [
            "Kode transaksi anda = TRX20230001\n"
          ]
        }
      ]
    },
    {
      "cell_type": "markdown",
      "source": [
        "### 👨‍💻 Task 2 - B\n",
        "\n",
        "Perintah yang sama namun gunakan `Style 2 : print(f'... {variabel}')`\n",
        "\n",
        "<br><i>Note : f'...{}' pada Python disebut f-string atau formatted string literal. Dengan f-string, ekspresi di dalam {} akan dievaluasi dan hasilnya dimasukkan langsung ke dalam string</i>\n",
        "\n",
        "docs : _https://docs.python.org/3/reference/lexical_analysis.html#f-strings_"
      ],
      "metadata": {
        "id": "Wtl9uUDFDFhD"
      }
    },
    {
      "cell_type": "code",
      "source": [
        "# Write your code below here & exec!\n",
        "kode_transaksi = 'TRX20230001'\n",
        "\n",
        "print(f'Nomor transaksi yang disimpan adalah {kode_transaksi}')"
      ],
      "metadata": {
        "id": "wHe-aSuWDFB_",
        "colab": {
          "base_uri": "https://localhost:8080/"
        },
        "outputId": "001a0dc8-6a22-4654-8079-c9dd1624750c"
      },
      "execution_count": null,
      "outputs": [
        {
          "output_type": "stream",
          "name": "stdout",
          "text": [
            "Nomor transaksi yang disimpan adalah TRX20230001\n"
          ]
        }
      ]
    },
    {
      "cell_type": "markdown",
      "source": [
        "#### ***Apa jadinya jika tanpa formatted string literal?***"
      ],
      "metadata": {
        "id": "_CbmmyMJN9Ow"
      }
    },
    {
      "cell_type": "code",
      "source": [
        "# Write your code below here & exec!\n",
        "kode_transaksi = 'TRX20230001'\n",
        "\n",
        "print('Nomor transaksi yang disimpan adalah {kode_transaksi}')"
      ],
      "metadata": {
        "id": "OD6FrajlOFh7",
        "colab": {
          "base_uri": "https://localhost:8080/"
        },
        "outputId": "24c55502-fbdf-43b2-8071-a43f4e84d2e9"
      },
      "execution_count": null,
      "outputs": [
        {
          "output_type": "stream",
          "name": "stdout",
          "text": [
            "Nomor transaksi yang disimpan adalah {kode_transaksi}\n"
          ]
        }
      ]
    },
    {
      "cell_type": "markdown",
      "source": [
        "### 👨‍💻 Task 2 - C\n",
        "\n",
        "Perintah yang sama namun gunakan `Style 3 : print('... {}'.format(variabel))`"
      ],
      "metadata": {
        "id": "ntOPyJMoDc6k"
      }
    },
    {
      "cell_type": "code",
      "source": [
        "# Write your code below here & exec!\n",
        "kode_transaksi = 'TRX20230002'\n",
        "\n",
        "print('Nomor transaksi yang disimpan adalah {}'.format(kode_transaksi))"
      ],
      "metadata": {
        "id": "EqgoHxfGDpNT",
        "colab": {
          "base_uri": "https://localhost:8080/"
        },
        "outputId": "2312d50a-41e7-4ea7-be2f-4e234fa1df6d"
      },
      "execution_count": null,
      "outputs": [
        {
          "output_type": "stream",
          "name": "stdout",
          "text": [
            "Nomor transaksi yang disimpan adalah TRX20230002\n"
          ]
        }
      ]
    },
    {
      "cell_type": "markdown",
      "source": [
        "#### ***Bagaimana jadinya jika tanda {} lebih dari satu tapi pada method .format(...) hanya menyebutkan 1 variabel saja?***"
      ],
      "metadata": {
        "id": "A2mPq-d6lea8"
      }
    },
    {
      "cell_type": "code",
      "source": [
        "# Write your code below here & exec!\n",
        "kode_transaksi1 = 'TRX20230002'\n",
        "kode_transaksi2 = 'TRX20230002'\n",
        "\n",
        "print('Nomor {} transaksi {}'.format(kode_transaksi1, kode_transaksi2))"
      ],
      "metadata": {
        "id": "pIBxylNglrLY",
        "colab": {
          "base_uri": "https://localhost:8080/"
        },
        "outputId": "8f3259df-0698-4781-e46b-9de792e24389"
      },
      "execution_count": null,
      "outputs": [
        {
          "output_type": "stream",
          "name": "stdout",
          "text": [
            "Nomor TRX20230002 transaksi TRX20230002\n"
          ]
        }
      ]
    },
    {
      "cell_type": "markdown",
      "source": [
        "### 👨‍💻 Task 2 - D\n",
        "\n",
        "Bang Messi, seorang customer di DQTech memiliki data diri sebagai berikut :     \n",
        "\n",
        "*   Nama = Messi\n",
        "*   Usia = 36 Tahun\n",
        "*   Alamat = Tegal Bahari\n",
        "\n",
        "Simpanlah beberapa data tersebut kedalam variabel dengan expected output seperti berikut\n",
        "\n",
        "`Messi (36) beralamat di Tegal Bahari merupakan pelanggan loyal di DQTech`"
      ],
      "metadata": {
        "id": "z6N44zylDwCl"
      }
    },
    {
      "cell_type": "code",
      "source": [
        "# Write your code below here & exec!\n",
        "nama_pelanggan = 'Messi'\n",
        "usia_pelanggan = 36\n",
        "alamat_pelanggan = 'Tegal Bahari'\n",
        "\n",
        "# Tampilkan hasil\n",
        "print(f'{nama_pelanggan} ({usia_pelanggan}) beralamat di {alamat_pelanggan} meruapakan pelanggan loyal di DQTech')"
      ],
      "metadata": {
        "id": "1OVzy38fDy3a",
        "colab": {
          "base_uri": "https://localhost:8080/"
        },
        "outputId": "a7f9d455-3cc7-44d9-fe0e-a6349d4b7558"
      },
      "execution_count": null,
      "outputs": [
        {
          "output_type": "stream",
          "name": "stdout",
          "text": [
            "Messi (36) beralamat di Tegal Bahari meruapakan pelanggan loyal di DQTech\n"
          ]
        }
      ]
    },
    {
      "cell_type": "markdown",
      "source": [
        "---"
      ],
      "metadata": {
        "id": "6N5e2DffKE_e"
      }
    },
    {
      "cell_type": "markdown",
      "source": [
        "# ➡️ 3. Assignment\n",
        "\n",
        "Assignment adalah tindakan memberikan nilai atau data ke sebuah variabel.\n",
        "\n",
        "*   Variable yang akan diassignment harus terletak disebelah kiri tanda sama dengan ( = )\n",
        "*   Variabel yang sama jika diassign 2 kali maka nilai yang akan disimpan adalah yang paling akhir\n",
        "*   Python men-support proses assignment satu nilai pada multivariable\n",
        "*   Python juga men-support proses assignment banyak nilai pada multivariable secara serentak\n",
        "*   Proses sebelah kanan akan dilakukan terlebih dahulu baru di-assign ke variable sebelah kiri\n",
        "\n",
        "\n",
        "\n"
      ],
      "metadata": {
        "id": "0wt9UE4iHWgt"
      }
    },
    {
      "cell_type": "markdown",
      "source": [
        "### 👨‍💻 Task 3 - A\n",
        "\n",
        "Metrik yang digunakan dalam periklanan online dan pemasaran digital untuk mengukur seberapa sering pengguna mengklik tautan atau iklan tertentu dibandingkan dengan seberapa sering tautan atau iklan tersebut ditampilkan kepada mereka biasa disebut dengan Click-Through Rate (CTR).\n",
        "\n",
        "CTR yang diperoleh DQTech sebesar 4,3896% yang kemudian nilai ini ingin disimpan dalam sebuah variabel bernama CTR_DQtech lalu ingin ditampilkan hasilnya. Namun, Sendja mengalami error saat proses penyimpanan variabel tersebut.\n",
        "\n",
        "Bantu Sendja untuk memperbaiki kode dibawah ini"
      ],
      "metadata": {
        "id": "vEcbL1SQKEG9"
      }
    },
    {
      "cell_type": "code",
      "source": [
        "# Help Sendja!\n",
        "\n",
        "# Initialize Variable\n",
        "4,3896% = 'CTR_DQTech'\n",
        "\n",
        "# Show the result\n",
        "print('CTR_DQTech')"
      ],
      "metadata": {
        "colab": {
          "base_uri": "https://localhost:8080/",
          "height": 106
        },
        "id": "Jm6YZwJ4J2bE",
        "outputId": "1422ea3f-c3e4-4406-b2bc-5030f54ab2f0"
      },
      "execution_count": null,
      "outputs": [
        {
          "output_type": "error",
          "ename": "SyntaxError",
          "evalue": "invalid syntax (ipython-input-3181360649.py, line 4)",
          "traceback": [
            "\u001b[0;36m  File \u001b[0;32m\"/tmp/ipython-input-3181360649.py\"\u001b[0;36m, line \u001b[0;32m4\u001b[0m\n\u001b[0;31m    'CTR_DQTech' == 4,3896%\u001b[0m\n\u001b[0m                           ^\u001b[0m\n\u001b[0;31mSyntaxError\u001b[0m\u001b[0;31m:\u001b[0m invalid syntax\n"
          ]
        }
      ]
    },
    {
      "cell_type": "code",
      "source": [
        "# Perbaiki disini\n",
        "CTR_DQTech = '4,3896%'\n",
        "\n",
        "print(CTR_DQTech)"
      ],
      "metadata": {
        "id": "EkQbUtnJGHrE",
        "colab": {
          "base_uri": "https://localhost:8080/"
        },
        "outputId": "bd6dec8f-6ad3-4ac4-92ae-bdc7db1f04e8"
      },
      "execution_count": null,
      "outputs": [
        {
          "output_type": "stream",
          "name": "stdout",
          "text": [
            "4,3896%\n"
          ]
        }
      ]
    },
    {
      "cell_type": "code",
      "source": [
        "# Perbaiki disini\n",
        "CTR_DQTech = 4,3896\n",
        "\n",
        "print(f'{str(CTR_DQTech)}%')"
      ],
      "metadata": {
        "colab": {
          "base_uri": "https://localhost:8080/"
        },
        "id": "0cW2ipBIjwIW",
        "outputId": "68b10f75-434d-4f53-e166-7fcbe4883828"
      },
      "execution_count": null,
      "outputs": [
        {
          "output_type": "stream",
          "name": "stdout",
          "text": [
            "(4, 3896)%\n"
          ]
        }
      ]
    },
    {
      "cell_type": "code",
      "source": [
        "CTR_DQTech = 0,043896"
      ],
      "metadata": {
        "id": "TuJkTELfkp7k"
      },
      "execution_count": null,
      "outputs": []
    },
    {
      "cell_type": "markdown",
      "source": [
        "### 👨‍💻 Task 3 - B\n",
        "\n",
        "Tulis dalam satu baris proses assignment beberapa variabel metrik penting DQTech berikut pada python :    \n",
        "\n",
        "* GMV = 30%\n",
        "* AOV = 3.567.000\n",
        "* COGS = 5,6%\n",
        "\n",
        "*Note : Just One Line Needed!*"
      ],
      "metadata": {
        "id": "Ol81wxcmM3o1"
      }
    },
    {
      "cell_type": "code",
      "source": [
        "# Write your code below here & exec!\n",
        "GMV, AOV, COGS = 0.30, 3567000, 0.056\n",
        "\n",
        "# Tampilkan nilainya\n",
        "print(f'{GMV}, {AOV}, {COGS}')"
      ],
      "metadata": {
        "id": "FaU1zdsjrO2T",
        "colab": {
          "base_uri": "https://localhost:8080/"
        },
        "outputId": "8c66effd-f301-48b8-a6fa-4820fbcbe722"
      },
      "execution_count": null,
      "outputs": [
        {
          "output_type": "stream",
          "name": "stdout",
          "text": [
            "0.3, 3567000, 0.056\n"
          ]
        }
      ]
    },
    {
      "cell_type": "code",
      "source": [
        "# Write your code below here & exec!\n",
        "GMV, AOV, COGS = 0.30, 3567000, 0.056\n",
        "\n",
        "# Tampilkan nilainya\n",
        "print(f\"GMC = {GMV}\\nAOV = {AOV}\\nCOGS = {COGS}\")"
      ],
      "metadata": {
        "colab": {
          "base_uri": "https://localhost:8080/"
        },
        "id": "4Qrtzd3ml9mu",
        "outputId": "1ed9a7e3-8603-466d-f7f7-23aa9e59694b"
      },
      "execution_count": null,
      "outputs": [
        {
          "output_type": "stream",
          "name": "stdout",
          "text": [
            "GMC = 0.3\n",
            "AOV = 3567000\n",
            "COGS = 0.056\n"
          ]
        }
      ]
    },
    {
      "cell_type": "markdown",
      "source": [
        "---"
      ],
      "metadata": {
        "id": "uLupQlVPcD6K"
      }
    },
    {
      "cell_type": "markdown",
      "source": [
        "# 📈 4. Tipe Data\n",
        "\n",
        "Tipe data adalah jenis nilai yang disimpan pada sebuah variabel. Jenis tipe data pada python : <br><br>    \n",
        "\n",
        "<table>\n",
        "  <tr>\n",
        "    <th>Tipe Data</th>\n",
        "    <th>Kepanjangan</th>\n",
        "    <th>Deskripsi</th>\n",
        "  </tr>\n",
        "  <tr>\n",
        "    <td>str</td>\n",
        "    <td>string</td>\n",
        "    <td>Karakter / alfabet</td>\n",
        "  </tr>\n",
        "  <tr>\n",
        "    <td>int</td>\n",
        "    <td>integer</td>\n",
        "    <td>Bilangan Bulat</td>\n",
        "  </tr>\n",
        "  <tr>\n",
        "    <td>float</td>\n",
        "    <td>floating-point number</td>\n",
        "    <td>Semua Bilangan (baik bulat maupun desimal)</td>\n",
        "  </tr>\n",
        "  <tr>\n",
        "    <td>complex</td>\n",
        "    <td>complex number</td>\n",
        "    <td>Campuran bilangan bulat dan bilangan imajiner</td>\n",
        "  </tr>\n",
        "  <tr>\n",
        "    <td>bool</td>\n",
        "    <td>boolean</td>\n",
        "    <td>Nilai Kebenaran (True / False)</td>\n",
        "  </tr>\n",
        "</table>\n",
        "\n",
        "Untuk memeriksa tipe data pada sebuah variabel gunakan fungsi `type(variabel)`\n",
        "\n",
        "<br>\n",
        "\n",
        "**Contoh :**\n",
        "Sebuah perusahaan teknologi terkemuka, DQTech tahun ini telah membukukan revenue sebesar 40 Miliar rupiah. Pada python, buatlah sebuah variabel untuk menyimpan nilai tersebut (revenue DQTech) dan tampilkan nilainya beserta tipe datanya dengan menambahkan beberapa kalimat penjelas\n",
        "\n",
        "**Jawab :** *Ketikan ini pada cell lalu eksekusi (run)*\n",
        "```\n",
        "# Buat variabel\n",
        "revenue_DQTech = 40000000000\n",
        "\n",
        "# Tampilkan hasilnya\n",
        "print(f'Pendapatan yang diperoleh DQTech adalah {revenue_DQTech} dengan tipe data {type(revenue_DQTech)}')\n",
        "\n",
        ">>> Output :      \n",
        ">>> Pendapatan yang diperoleh DQTech adalah 40000000000 dengan tipe data <class 'int'>\n",
        "```"
      ],
      "metadata": {
        "id": "0km2BS2DSnD5"
      }
    },
    {
      "cell_type": "markdown",
      "source": [
        "### 👨‍💻 Task 4 - A\n",
        "\n",
        "Aplikasi baru yang diluncurkan oleh perusahaan teknologi ternama DQTech mendapat rating 4.9 (scoring max = 5.0). Nilai tersebut akan disimpan kedalam sebuah variabel pada python sehingga bantulah Sendja untuk membuat variabel dan tampilkan nilai beserta tipe datanya!"
      ],
      "metadata": {
        "id": "I-oaUas-UKP1"
      }
    },
    {
      "cell_type": "code",
      "source": [
        "# Write your code below here & exec!\n",
        "rating_dqtech = 4.9\n",
        "\n",
        "# Tampilkan hasilnya\n",
        "print(f'rating score DQTech adalah {rating_dqtech} Bertipe : {type(rating_dqtech)}')"
      ],
      "metadata": {
        "id": "esOl1BXQWDwA",
        "colab": {
          "base_uri": "https://localhost:8080/"
        },
        "outputId": "547f935d-df00-45c0-a2d9-06659f50c5d0"
      },
      "execution_count": null,
      "outputs": [
        {
          "output_type": "stream",
          "name": "stdout",
          "text": [
            "rating score DQTech adalah 4.9 Bertipe : <class 'float'>\n"
          ]
        }
      ]
    },
    {
      "cell_type": "markdown",
      "source": [
        "### 👨‍💻 Task 4 - B\n",
        "\n",
        "Kode yang dituliskan Sendja berikut dapat dieksekusi oleh Python,\n",
        "\n",
        "```\n",
        "retention_rate = '0.8912'\n",
        "\n",
        "print('Variabel retention_rate menyimpan nilai = {retention_rate} dengan tipe data = {type}')\n",
        "```\n",
        "\n",
        "namun outputnya tidak sesuai dengan yang Sendja harapkan. Bantulah Sendja untuk memperbaiki kesalahan yang dilakukan olehnya!"
      ],
      "metadata": {
        "id": "xzKPKft-WELu"
      }
    },
    {
      "cell_type": "code",
      "source": [
        "# Help Sendja!\n",
        "retention_rate = '0.8912'\n",
        "\n",
        "print('Variabel retention_rate menyimpan nilai = {retention_rate} dengan tipe data = {type}')"
      ],
      "metadata": {
        "colab": {
          "base_uri": "https://localhost:8080/"
        },
        "id": "pJyqZUG3XYDL",
        "outputId": "116b499a-72ea-4ac4-e0c3-d350bc34647c"
      },
      "execution_count": null,
      "outputs": [
        {
          "output_type": "stream",
          "name": "stdout",
          "text": [
            "Variabel retention_rate menyimpan nilai = {retention_rate} dengan tipe data = {type}\n"
          ]
        }
      ]
    },
    {
      "cell_type": "code",
      "source": [
        "# Help Sendja!\n",
        "retention_rate = 0.8912\n",
        "\n",
        "print(f'Variabel retention_rate menyimpan nilai = {retention_rate} dengan tipe data = {type(retention_rate)}')"
      ],
      "metadata": {
        "colab": {
          "base_uri": "https://localhost:8080/"
        },
        "id": "P9ZqSTeRzUDi",
        "outputId": "94170d8e-bf10-4111-d1ae-1252efc56d43"
      },
      "execution_count": null,
      "outputs": [
        {
          "output_type": "stream",
          "name": "stdout",
          "text": [
            "Variabel retention_rate menyimpan nilai = 0.8912 dengan tipe data = <class 'float'>\n"
          ]
        }
      ]
    },
    {
      "cell_type": "markdown",
      "source": [
        "# 🛠 5. Konversi Tipe Data\n",
        "\n",
        "Tipe data pada sebuah variabel dapat diubah dari aslinya dengan syarat variabel yang akan di konversi tipe datanya sesuai. Untuk mengubah suatu variabel dengan tipe data tertentu menjadi tipe data yang diinginkan gunakan fungsi berikut :\n",
        "\n",
        "<ol>\n",
        "<li><b>int</b>(nama_variabel) : untuk mengubah tipe data variabel menjadi integer / bil. bulat<br><i><a href=\"https://docs.python.org/3/library/functions.html#int\">docs : https://docs.python.org/3/library/functions.html#int</i></a></li><br>\n",
        "<li><b>float</b>(nama_variabel) : untuk mengubah tipe data variabel menjadi float / bil. real\n",
        "<br><i><a href=\"https://docs.python.org/3/library/functions.html#float\">docs : https://docs.python.org/3/library/functions.html#float</i></a></li><br>\n",
        "<li><b>str</b>(nama_variabel) : untuk mengubah tipe data variabel menjadi string\n",
        "<br><i><a href=\"https://docs.python.org/3/library/functions.html#func-str\">docs : https://docs.python.org/3/library/functions.html#func-str</i></a></li><br>\n",
        "<li><b>bool</b>(nama_variabel) : untuk mengubah tipe data variabel menjadi boolean\n",
        "<br><a href=\"https://docs.python.org/3/library/functions.html#bool\"><i>docs : https://docs.python.org/3/library/functions.html#bool</i></a></li><br>\n",
        "</ol>\n",
        "\n",
        "Namun, yang perlu diperhatikan adalah tidak semua variabel dengan tipe data tertentu dapat dengan mudah diubah tipe datanya.\n",
        "\n",
        "\n",
        "<br>\n",
        "\n",
        "**Contoh :**\n",
        "Sebuah perusahaan teknologi terkemuka, DQTech tahun ini telah membukukan revenue sebesar 40 Miliar rupiah. Pada python, buatlah sebuah variabel untuk menyimpan nilai tersebut (revenue DQTech) dan tampilkan nilainya beserta tipe datanya dengan menambahkan beberapa kalimat penjelas. Kemudian ubah tipe datanya menjadi float!\n",
        "\n",
        "**Jawab :** *Ketikan ini pada cell lalu eksekusi (run)*\n",
        "```\n",
        "# Buat variabel\n",
        "revenue_DQTech = 40000000000\n",
        "\n",
        "# Tampilkan hasilnya\n",
        "print(f'Pendapatan yang diperoleh DQTech adalah {revenue_DQTech} dengan tipe data {type(revenue_DQTech)}')\n",
        "\n",
        ">>> Output :      \n",
        ">>> Pendapatan yang diperoleh DQTech adalah 40000000000 dengan tipe data <class 'int'>\n",
        "```\n",
        "\n",
        "Proses Konversi tipe data\n",
        "```\n",
        "# Buat variabel\n",
        "revenue_DQTech = float(revenue_DQTech)\n",
        "\n",
        "# Tampilkan hasilnya\n",
        "print(f'Pendapatan yang diperoleh DQTech adalah {revenue_DQTech} dengan tipe data {type(revenue_DQTech)}')\n",
        "\n",
        ">>> Output :      \n",
        ">>> Pendapatan yang diperoleh DQTech adalah 40000000000.0 dengan tipe data <class 'float'>\n",
        "```"
      ],
      "metadata": {
        "id": "rsBF4ra9ZDSt"
      }
    },
    {
      "cell_type": "markdown",
      "source": [
        "### 👨‍💻 Task 5\n",
        "\n",
        "Lakukan eksperimen sesuka hatimu untuk melakukan konversi tipe data dari sebuah variabel, tampilkan hasilnya juga ya!"
      ],
      "metadata": {
        "id": "BZJDUFMyZz41"
      }
    },
    {
      "cell_type": "code",
      "source": [
        "# Write your code below here & exec!\n",
        "pi = '3.14'\n",
        "\n",
        "# Tampilkan hasilnya\n",
        "print(f'Nilai pi = {pi} dengan tipe data', type(pi))"
      ],
      "metadata": {
        "id": "jITwsxbUaQaF",
        "colab": {
          "base_uri": "https://localhost:8080/"
        },
        "outputId": "f23d12aa-50ea-4c91-b418-df77fc519791"
      },
      "execution_count": null,
      "outputs": [
        {
          "output_type": "stream",
          "name": "stdout",
          "text": [
            "Nilai pi = 3.14 dengan tipe data <class 'str'>\n"
          ]
        }
      ]
    },
    {
      "cell_type": "code",
      "source": [
        "# Konversi tipe data & tampilkan hasilnya\n",
        "pi = float(pi)\n",
        "\n",
        "print(f'Nilai pi = {pi} dengan tipe data', type(pi))"
      ],
      "metadata": {
        "colab": {
          "base_uri": "https://localhost:8080/"
        },
        "id": "UM2wNWdZq2cc",
        "outputId": "2cace935-2e92-44d0-bc98-b6235e92fc4a"
      },
      "execution_count": null,
      "outputs": [
        {
          "output_type": "stream",
          "name": "stdout",
          "text": [
            "Nilai pi = 3.14 dengan tipe data <class 'float'>\n"
          ]
        }
      ]
    },
    {
      "cell_type": "code",
      "source": [
        "# Konversi tipe data & tampilkan hasilnya\n",
        "pi = int(pi)\n",
        "\n",
        "print(f'Nilai pi = {pi} dengan tipe data', type(pi))"
      ],
      "metadata": {
        "colab": {
          "base_uri": "https://localhost:8080/"
        },
        "id": "rw1q7Qczpkam",
        "outputId": "d1dfc265-73c4-42d6-a5be-2bc495d8557d"
      },
      "execution_count": null,
      "outputs": [
        {
          "output_type": "stream",
          "name": "stdout",
          "text": [
            "Nilai pi = 3 dengan tipe data <class 'int'>\n"
          ]
        }
      ]
    },
    {
      "cell_type": "markdown",
      "source": [
        "---"
      ],
      "metadata": {
        "id": "zmoxEscdcBcR"
      }
    },
    {
      "cell_type": "markdown",
      "source": [
        "# 🧮 6. Operasi Variabel\n",
        "\n",
        "Variabel dapat juga dilakukan proses operasi baik operasi perhitungan maupun operasi yang lain. Berikut merupakan operasi variabel yang valid atau dapat dilakukan pada bahasa pemrograman Python\n",
        "\n",
        "<ol>\n",
        "<li>Operasi Aritmatika<br>\n",
        "Operasi aritmatika hanya berlaku pada satu atau lebih variabel dengan tipe data numerik seperti float, int maupun bilangan kompleks.</br>\n",
        "\n",
        "<p align=\"center\">\n",
        "<img src=\"http://lam-programming.weebly.com/uploads/2/3/3/2/23323570/screenshot-2018-12-11-11-57-08_orig.png\" width=\"500\" height=\"300\" alt=\"alternatetext\">\n",
        "<p align=\"center\"><b>Gambar 1. Operasi Pada Variabel</b></p></p><br>\n",
        "\n",
        "</li>\n",
        "\n",
        "<li>Operasi String<br>\n",
        "String hanya dapat dioperasikan dengan sesama string menggunakan operator ( + ) untuk menggabung (<i>concatenate</i>) satu string dengan yang lain atau dapat juga dioperasikan dengan integer menggunakan operator ( * ) untuk melipatgandakan string sebanyak bilangan integer yang diinisialisasikan</br>\n",
        "\n",
        "<p align=\"center\">\n",
        "<img src=\"https://files.transtutors.com/book/qimg/6bd88be4-d7be-4b4f-859e-2f95e9dc9962.png\" width=\"400\" height=\"500\" alt=\"alternatetext\">\n",
        "<p align=\"center\"><b>Gambar 2. Method pada String</b></p></p><br>\n",
        "</li>\n",
        "</ol>\n",
        "\n",
        "\n"
      ],
      "metadata": {
        "id": "aicKbKT1bxBR"
      }
    },
    {
      "cell_type": "markdown",
      "source": [
        "### 👨‍💻 Task 6 - A\n",
        "\n",
        "Customer Satisfaction Score (CSAT) adalah metrik yang digunakan untuk mengukur tingkat kepuasan pelanggan terhadap produk atau layanan. Dirumuskan sebagai\n",
        "\n",
        "  \\begin{equation}\n",
        "  CSAT =  \\frac{Total\\ Respon\\ Positif}{Total\\ Respon}*100\n",
        "  \\end{equation}\n",
        "\n",
        "Dari 125 Responden, 13 diantaranya merespon negatif aplikasi terbaru yang di-deploy oleh DQtech karena ditemukan beberapa *bug*. Dengan bantuan Python, hitung berapa nilai metrik CSAT yang diperoleh oleh DQTech!"
      ],
      "metadata": {
        "id": "o6tQw79wcg6l"
      }
    },
    {
      "cell_type": "code",
      "source": [
        "# Fill the blank\n",
        "total_responden = 125\n",
        "respon_negatif = 13\n",
        "respon_positif = total_responden - respon_negatif\n",
        "\n",
        "# Hitung CSAT\n",
        "CSAT = respon_positif / total_responden * 100\n",
        "\n",
        "# Tampilkan CSAT\n",
        "print(f'Customer Satisfaction Score = {CSAT:.2f}%')"
      ],
      "metadata": {
        "id": "nKR9Spwae7C8",
        "colab": {
          "base_uri": "https://localhost:8080/"
        },
        "outputId": "6da997f3-0a9c-4aca-8806-da58de4a357d"
      },
      "execution_count": null,
      "outputs": [
        {
          "output_type": "stream",
          "name": "stdout",
          "text": [
            "Customer Satisfaction Score = 89.60%\n"
          ]
        }
      ]
    },
    {
      "cell_type": "markdown",
      "source": [
        "### 👨‍💻 Task 6 - B\n",
        "\n",
        "Buatlah sebuah variabel yang menyimpan nilai '1nDon3s1A', perbaiki kata '1nDon3s1A' menjadi 'INDONESIA' lalu tampilkan hasilnya"
      ],
      "metadata": {
        "id": "U5zi-jkVqXVw"
      }
    },
    {
      "cell_type": "code",
      "source": [
        "negara = '1nDon3s1A'\n",
        "\n",
        "# Tampilkan hasilnya\n",
        "print(negara)"
      ],
      "metadata": {
        "id": "j9ruNO39qr2S",
        "colab": {
          "base_uri": "https://localhost:8080/"
        },
        "outputId": "bb98ea5f-403d-4770-a28e-08c4c57927ca"
      },
      "execution_count": null,
      "outputs": [
        {
          "output_type": "stream",
          "name": "stdout",
          "text": [
            "1nDon3s1A\n"
          ]
        }
      ]
    },
    {
      "cell_type": "code",
      "source": [
        "# Perbaikan 1 - Ubah menjadi uppercase semua\n",
        "negara = negara.upper()\n",
        "\n",
        "# Tampilkan hasilnya\n",
        "print(negara)"
      ],
      "metadata": {
        "colab": {
          "base_uri": "https://localhost:8080/"
        },
        "id": "rtbs5RbewfFp",
        "outputId": "b195dfd6-592a-4a66-d969-0914b504caed"
      },
      "execution_count": null,
      "outputs": [
        {
          "output_type": "stream",
          "name": "stdout",
          "text": [
            "1NDON3S1A\n"
          ]
        }
      ]
    },
    {
      "cell_type": "code",
      "source": [
        "# Perbaikan 2 - Ubah angka 1 menjadi I\n",
        "negara = negara.replace('1', 'I')\n",
        "\n",
        "# Tampilkan hasilnya\n",
        "print(negara)"
      ],
      "metadata": {
        "colab": {
          "base_uri": "https://localhost:8080/"
        },
        "id": "NZVubxcRwpXl",
        "outputId": "4affbbe1-f084-4011-d178-8138ba0f02cb"
      },
      "execution_count": null,
      "outputs": [
        {
          "output_type": "stream",
          "name": "stdout",
          "text": [
            "INDON3SIA\n"
          ]
        }
      ]
    },
    {
      "cell_type": "code",
      "source": [
        "# Perbaikan 2 - Ubah angka 3 menjadi E\n",
        "negara = '1nDon3s1A'\n",
        "negara = negara.upper()\n",
        "negara = negara.replace('1', 'I')\n",
        "negara = negara.replace('3', 'E')\n",
        "\n",
        "# Tampilkan hasilnya\n",
        "print(negara)"
      ],
      "metadata": {
        "colab": {
          "base_uri": "https://localhost:8080/"
        },
        "id": "aYxRlG8EwvTW",
        "outputId": "8dd3ad0a-0570-4960-b5a7-6c3cdfabf47a"
      },
      "execution_count": null,
      "outputs": [
        {
          "output_type": "stream",
          "name": "stdout",
          "text": [
            "INDONESIA\n"
          ]
        }
      ]
    },
    {
      "cell_type": "markdown",
      "source": [
        "**Written By :** <br>\n",
        "<a href=\"https://linkedin.com/in/fadhiladianaz\"><img alt=\"Linked In Link\" src=\"https://img.shields.io/badge/-fadhila%20dian%20azhara-0072b1?style=for-the-badge&logo=None&logoColor=white\" align=\"left\"/></a>\n",
        "\n",
        "<br><br>**for :**\n",
        "\n",
        "<a href=\"https://dqlab.id/\"><img src=\"https://dqlab.id/files/dqlab/cache/87e30118ebba5ec7d96f6ea8c9dcc10b_x_118_X_55.png\" align=\"left\" /></a>"
      ],
      "metadata": {
        "id": "IZHHncdiIrH3"
      }
    }
  ]
}